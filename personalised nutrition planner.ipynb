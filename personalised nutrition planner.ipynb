{
 "cells": [
  {
   "cell_type": "code",
   "execution_count": 3,
   "metadata": {},
   "outputs": [
    {
     "name": "stdout",
     "output_type": "stream",
     "text": [
      "\n",
      "Personalized Meal Plan:\n",
      "Apple\n",
      "\n",
      "Nutritional Summary:\n",
      "Total Calories: 52\n",
      "Total Protein: 0.3 g\n",
      "Total Carbs: 14 g\n",
      "Total Fat: 0.2 g\n"
     ]
    }
   ],
   "source": [
    "import pandas as pd\n",
    "\n",
    "# Sample Data: Nutritional Information\n",
    "food_data = {\n",
    "    'Food': ['Apple', 'Banana', 'Chicken Breast', 'Broccoli', 'Almonds'],\n",
    "    'Calories': [52, 89, 165, 55, 575],\n",
    "    'Protein (g)': [0.3, 1.1, 31, 3.7, 21],\n",
    "    'Carbs (g)': [14, 23, 0, 11, 22],\n",
    "    'Fat (g)': [0.2, 0.3, 3.6, 0.6, 49]\n",
    "}\n",
    "\n",
    "df = pd.DataFrame(food_data)\n",
    "\n",
    "# User Input: Dietary Preferences\n",
    "daily_calories = int(input(\"Enter your daily calorie goal: \"))\n",
    "daily_protein = int(input(\"Enter your daily protein goal (g): \"))\n",
    "daily_carbs = int(input(\"Enter your daily carbs goal (g): \"))\n",
    "daily_fat = int(input(\"Enter your daily fat goal (g): \"))\n",
    "\n",
    "# Function to create a meal plan\n",
    "def create_meal_plan(calories, protein, carbs, fat):\n",
    "    # Simple heuristic: Choose foods to match dietary goals\n",
    "    meal_plan = []\n",
    "    total_calories = total_protein = total_carbs = total_fat = 0\n",
    "    \n",
    "    for _, row in df.iterrows():\n",
    "        if total_calories + row['Calories'] <= calories:\n",
    "            meal_plan.append(row['Food'])\n",
    "            total_calories += row['Calories']\n",
    "            total_protein += row['Protein (g)']\n",
    "            total_carbs += row['Carbs (g)']\n",
    "            total_fat += row['Fat (g)']\n",
    "    \n",
    "    return meal_plan, total_calories, total_protein, total_carbs, total_fat\n",
    "\n",
    "# Generate Meal Plan\n",
    "meal_plan, total_calories, total_protein, total_carbs, total_fat = create_meal_plan(daily_calories, daily_protein, daily_carbs, daily_fat)\n",
    "\n",
    "# Output Meal Plan\n",
    "print(\"\\nPersonalized Meal Plan:\")\n",
    "for food in meal_plan:\n",
    "    print(food)\n",
    "\n",
    "print(\"\\nNutritional Summary:\")\n",
    "print(f\"Total Calories: {total_calories}\")\n",
    "print(f\"Total Protein: {total_protein} g\")\n",
    "print(f\"Total Carbs: {total_carbs} g\")\n",
    "print(f\"Total Fat: {total_fat} g\")"
   ]
  }
 ],
 "metadata": {
  "kernelspec": {
   "display_name": "base",
   "language": "python",
   "name": "python3"
  },
  "language_info": {
   "codemirror_mode": {
    "name": "ipython",
    "version": 3
   },
   "file_extension": ".py",
   "mimetype": "text/x-python",
   "name": "python",
   "nbconvert_exporter": "python",
   "pygments_lexer": "ipython3",
   "version": "3.12.4"
  }
 },
 "nbformat": 4,
 "nbformat_minor": 2
}
